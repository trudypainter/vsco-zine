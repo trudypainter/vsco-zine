{
 "cells": [
  {
   "cell_type": "code",
   "execution_count": 149,
   "metadata": {},
   "outputs": [],
   "source": [
    "from bs4 import BeautifulSoup\n",
    "from datetime import datetime\n",
    "import requests, json, time, datetime"
   ]
  },
  {
   "cell_type": "code",
   "execution_count": 150,
   "metadata": {},
   "outputs": [],
   "source": [
    "visitvsco = {\n",
    "    \"Accept\":\"text/html,application/xhtml+xml,application/xml;q=0.9,image/webp,image/apng,*/*;q=0.8\",\n",
    "    \"Accept-Encoding\":\"gzip, deflate\",\n",
    "    \"Accept-Language\":\"en-US,en;q=0.9\",\n",
    "    \"Connection\":\"keep-alive\",\n",
    "    \"Host\":\"vsco.co\",\n",
    "    \"Upgrade-Insecure-Requests\":\"1\",\n",
    "    \"User-Agent\":\"Mozilla/5.0 (Windows NT 10.0; Win64; x64) AppleWebKit/537.36 (KHTML, like Gecko) Chrome/62.0.3202.94 Safari/537.36\",\n",
    "    }\n",
    "\n",
    "visituserinfo = {\n",
    "    \"Accept\":\"*/*\",\n",
    "    \"Accept-Encoding\":\"gzip, deflate\",\n",
    "    \"Accept-Language\":\"en-US,en;q=0.9\",\n",
    "    \"Connection\":\"keep-alive\",\n",
    "    \"Host\":\"vsco.co\",\n",
    "    \"Referer\":\"http://vsco.co/bob/images/1\",\n",
    "    \"User-Agent\":\"Mozilla/5.0 (Windows NT 10.0; Win64; x64) AppleWebKit/537.36 (KHTML, like Gecko) Chrome/63.0.3239.84 Safari/537.36\",\n",
    "    }\n",
    "\n",
    "media = {\n",
    "    \"Accept\":\"*/*\",\n",
    "    \"Accept-Encoding\":\"gzip, deflate\",\n",
    "    \"Accept-Language\":\"en-US,en;q=0.9\",\n",
    "    \"Connection\":\"keep-alive\",\n",
    "    \"Host\":\"vsco.co\",\n",
    "    \"Referer\":\"http://vsco.co/bob/images/1\",\n",
    "    \"User-Agent\":\"Mozilla/5.0 (Windows NT 10.0; Win64; x64) AppleWebKit/537.36 (KHTML, like Gecko) Chrome/62.0.3202.94 Safari/537.36\",\n",
    "    \"X-Client-Build\":\"1\",\n",
    "    \"X-Client-Platform\":\"web\",\n",
    "    }"
   ]
  },
  {
   "cell_type": "code",
   "execution_count": 140,
   "metadata": {},
   "outputs": [],
   "source": [
    "class VSCO:\n",
    "    def __init__(self, username):\n",
    "        \n",
    "        # INITIALIZATION COOKIES/UID \n",
    "        self.username = 'bionicpinkytoe'\n",
    "        self.session = requests.Session() \n",
    "        self.session.get(\"http://vsco.co/content/Static/userinfo?callback=jsonp_%s_0\" %(str(round(time.time()*1000))),\\\n",
    "                    headers=visituserinfo)\n",
    "        self.uid = self.session.cookies.get_dict()['vs']\n",
    "        \n",
    "        res = self.session.get(\"http://vsco.co/ajxp/%s/2.0/sites?subdomain=%s\" % (self.uid,self.username))\n",
    "        self.siteid = res.json()[\"sites\"][0][\"id\"]\n",
    "        \n",
    "        # GET JSON OF ALL IMAGE INFO\n",
    "        self.mediaurl = \"http://vsco.co/ajxp/%s/2.0/medias?site_id=%s\" %(self.uid,self.siteid)\n",
    "        self.image_json = self.session.get(self.mediaurl,params={\"size\":1000,\"page\":1},\\\n",
    "                             headers=media).json()[\"media\"]\n",
    "    \n",
    "    def __iter__(self):\n",
    "        for image in self.image_json:\n",
    "           yield image \n"
   ]
  },
  {
   "cell_type": "code",
   "execution_count": 141,
   "metadata": {},
   "outputs": [],
   "source": [
    "vscoscrape = VSCO('bionicpinkytoe')"
   ]
  },
  {
   "cell_type": "code",
   "execution_count": 142,
   "metadata": {},
   "outputs": [
    {
     "name": "stdout",
     "output_type": "stream",
     "text": [
      "im.vsco.co/aws-us-west-2/988393/81457622/5fcf8312e243a63008a7702d/vsco5fcf831562775.jpg\n",
      "i am cumulus \n",
      "1607435029393\n",
      "\n",
      "im.vsco.co/aws-us-west-2/988393/81457622/5fcec452a114bb7f068d0d0b/vsco5fcec453dea98.jpg\n",
      "poke it out *+\n",
      "1607386195904\n",
      "\n",
      "im.vsco.co/aws-us-west-2/988393/81457622/5fce62c8cef89b662d1f08b7/vsco5fce62c9a0f8d.jpg\n",
      "🦩 🐈 🦩 \n",
      "1607361225648\n",
      "\n",
      "im.vsco.co/aws-us-west-2/988393/81457622/5fce62a5cef89b662d1f08b6/vsco5fce62a72c5a9.jpg\n",
      "old drip\n",
      "1607361191172\n",
      "\n"
     ]
    }
   ],
   "source": [
    "for ix, img in enumerate(vscoscrape):\n",
    "    print(img['responsive_url'])\n",
    "    print(img['description'])\n",
    "    print(img['upload_date'])\n",
    "    print()\n",
    "    if ix > 2:\n",
    "        break"
   ]
  },
  {
   "cell_type": "code",
   "execution_count": 146,
   "metadata": {},
   "outputs": [
    {
     "data": {
      "text/plain": [
       "1607445854"
      ]
     },
     "execution_count": 146,
     "metadata": {},
     "output_type": "execute_result"
    }
   ],
   "source": [
    "round(time.time())"
   ]
  },
  {
   "cell_type": "code",
   "execution_count": 170,
   "metadata": {},
   "outputs": [],
   "source": [
    "from datetime import datetime\n",
    "time1 = \"2010-04-20\"\n",
    "time2 = \"2010-05-20\"\n",
    "\n",
    "format_ = '%Y-%m-%d'\n",
    "x = datetime.strptime(time1, format_)\n",
    "y = datetime.strptime(time2, format_)"
   ]
  },
  {
   "cell_type": "code",
   "execution_count": 171,
   "metadata": {},
   "outputs": [
    {
     "data": {
      "text/plain": [
       "1271736000"
      ]
     },
     "execution_count": 171,
     "metadata": {},
     "output_type": "execute_result"
    }
   ],
   "source": [
    "int(time.mktime(x.timetuple()))"
   ]
  },
  {
   "cell_type": "code",
   "execution_count": 172,
   "metadata": {},
   "outputs": [
    {
     "data": {
      "text/plain": [
       "1274328000"
      ]
     },
     "execution_count": 172,
     "metadata": {},
     "output_type": "execute_result"
    }
   ],
   "source": [
    "int(time.mktime(y.timetuple()))"
   ]
  },
  {
   "cell_type": "code",
   "execution_count": 175,
   "metadata": {},
   "outputs": [
    {
     "data": {
      "text/plain": [
       "(13, 13)"
      ]
     },
     "execution_count": 175,
     "metadata": {},
     "output_type": "execute_result"
    }
   ],
   "source": [
    "len(str(1606798800 * 1000)), len(str(1607435029393))"
   ]
  },
  {
   "cell_type": "code",
   "execution_count": 1,
   "metadata": {},
   "outputs": [],
   "source": [
    "dur = \"12/06/2017 - 01/24/2018\""
   ]
  },
  {
   "cell_type": "code",
   "execution_count": 3,
   "metadata": {},
   "outputs": [
    {
     "data": {
      "text/plain": [
       "'01/24/2018'"
      ]
     },
     "execution_count": 3,
     "metadata": {},
     "output_type": "execute_result"
    }
   ],
   "source": [
    "dur[13:]"
   ]
  },
  {
   "cell_type": "code",
   "execution_count": null,
   "metadata": {},
   "outputs": [],
   "source": []
  }
 ],
 "metadata": {
  "kernelspec": {
   "display_name": "Python 3",
   "language": "python",
   "name": "python3"
  },
  "language_info": {
   "codemirror_mode": {
    "name": "ipython",
    "version": 3
   },
   "file_extension": ".py",
   "mimetype": "text/x-python",
   "name": "python",
   "nbconvert_exporter": "python",
   "pygments_lexer": "ipython3",
   "version": "3.7.6"
  }
 },
 "nbformat": 4,
 "nbformat_minor": 4
}
